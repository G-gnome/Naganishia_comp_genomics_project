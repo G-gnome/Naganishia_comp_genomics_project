{
 "cells": [
  {
   "cell_type": "code",
   "execution_count": 9,
   "id": "40b5d63c-ab41-4dc8-b0d1-516028c5715d",
   "metadata": {},
   "outputs": [
    {
     "data": {
      "text/plain": [
       "1"
      ]
     },
     "execution_count": 9,
     "metadata": {},
     "output_type": "execute_result"
    }
   ],
   "source": [
    "from Bio import SeqIO\n",
    "#index your gbk file as a dictionary\n",
    "record_dict = SeqIO.index(\"Naganishia_friedmannii_Annotation_submitted_by_Jet_Propulsion_Laboratory,_California_Institute_of_Technology.gbk\", \"genbank\")\n",
    "#ID your chromosome of interest. This is the same as your contig ID\n",
    "scaffold_11 = record_dict['scaffold_11']\n",
    "#Find the specific start/stop you want to subset your gbk file. You can do this by ID'ing your gene start/stop for the region of interest using the gbk file.\n",
    "scaffold_11_subseq = scaffold_11[302468:334699]\n",
    "#write the output to a new gbk\n",
    "SeqIO.write(scaffold_11_subseq, \"Naganishia_friedmannii_chromosome_11.gbk\", \"gb\")"
   ]
  },
  {
   "cell_type": "code",
   "execution_count": null,
   "id": "d5f4f51f-0fab-4c1e-b09a-b4b840496784",
   "metadata": {},
   "outputs": [],
   "source": []
  }
 ],
 "metadata": {
  "kernelspec": {
   "display_name": "Python 3 (ipykernel)",
   "language": "python",
   "name": "python3"
  },
  "language_info": {
   "codemirror_mode": {
    "name": "ipython",
    "version": 3
   },
   "file_extension": ".py",
   "mimetype": "text/x-python",
   "name": "python",
   "nbconvert_exporter": "python",
   "pygments_lexer": "ipython3",
   "version": "3.11.6"
  }
 },
 "nbformat": 4,
 "nbformat_minor": 5
}
