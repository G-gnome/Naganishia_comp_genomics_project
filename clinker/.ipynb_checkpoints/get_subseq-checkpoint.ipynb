{
 "cells": [
  {
   "cell_type": "code",
   "execution_count": null,
   "id": "a8367fab-4d81-4ff7-a3bc-973d1e2dba0a",
   "metadata": {},
   "outputs": [],
   "source": [
    "python\n",
    "from Bio import SeqIO"
   ]
  },
  {
   "cell_type": "code",
   "execution_count": null,
   "id": "40b5d63c-ab41-4dc8-b0d1-516028c5715d",
   "metadata": {},
   "outputs": [],
   "source": [
    "#index your gbk file as a dictionary\n",
    "record_dict = SeqIO.index(\"Naganishia_friedmannii_Annotation_submitted_by_Jet_Propulsion_Laboratory,_California_Institute_of_Technology.gbk\", \"genbank\")\n",
    "\n",
    "#Check that it was indexed\n",
    "print(record_dict)"
   ]
  },
  {
   "cell_type": "code",
   "execution_count": null,
   "id": "3cf70e58-ee00-4c60-8141-9590f611f355",
   "metadata": {},
   "outputs": [],
   "source": [
    "#ID your chromosome of interest. This is the same as your contig ID\n",
    "scaffold_11 = record_dict['scaffold_11']\n",
    "#Find the specific start/stop you want to subset your gbk file. You can do this by ID'ing your gene start/stop for the region of interest using the gbk file.\n",
    "scaffold_11_subseq = chrom1[302468:334699]"
   ]
  },
  {
   "cell_type": "code",
   "execution_count": null,
   "id": "00969e9d-0278-41fb-8371-4d54870f28db",
   "metadata": {},
   "outputs": [],
   "source": [
    "#write the output to a new gbk\n",
    "SeqIO.write(chrom1_subseq, \"Naganishia_friedmannii_scaffold_11_region001\", \"gb\")"
   ]
  }
 ],
 "metadata": {
  "kernelspec": {
   "display_name": "Python 3 (ipykernel)",
   "language": "python",
   "name": "python3"
  },
  "language_info": {
   "codemirror_mode": {
    "name": "ipython",
    "version": 3
   },
   "file_extension": ".py",
   "mimetype": "text/x-python",
   "name": "python",
   "nbconvert_exporter": "python",
   "pygments_lexer": "ipython3",
   "version": "3.11.6"
  }
 },
 "nbformat": 4,
 "nbformat_minor": 5
}
